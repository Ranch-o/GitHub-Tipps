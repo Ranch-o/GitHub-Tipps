{
 "cells": [
  {
   "attachments": {},
   "cell_type": "markdown",
   "metadata": {},
   "source": [
    "### Connecting a Jupyter Notebook (.ipynb file) with your GitHub account and syncing changes "
   ]
  },
  {
   "attachments": {},
   "cell_type": "markdown",
   "metadata": {},
   "source": [
    "Connecting a Jupyter Notebook (.ipynb file) with your GitHub account and syncing changes involves a few steps. Assuming you have Git installed and your GitHub account is set up, here's a general process you can follow:\n",
    "\n",
    "1. Initialize a Local Git Repository\n",
    "\n",
    "    First, you need to create a local Git repository in the folder where your notebook is located.\n",
    "\n",
    "    Open Terminal or Command Prompt.\n",
    "\n",
    "    Navigate to the directory where your notebook is located using cd path/to/your/notebook/folder.\n",
    "\n",
    "    Initialize the repository by running git init.\n",
    "\n",
    "2. Connect the Local Repository to GitHub\n",
    "\n",
    "    Create a new repository on GitHub. Go to GitHub, sign in, click on the \"+\" icon in the top right corner, and select \"New repository\".\n",
    "\n",
    "    Name your repository and set its visibility (public or private).\n",
    "\n",
    "    Copy the repository's URL (either HTTPS or SSH, depending on your preference).\n",
    "\n",
    "    Back in your terminal:\n",
    "\n",
    "    Connect your local repository to the GitHub repository with:\n",
    "\n",
    "    If using HTTPS: git remote add origin https://github.com/yourusername/your-repository-name.git\n",
    "\n",
    "    If using SSH: git remote add origin git@github.com:yourusername/your-repository-name.git\n",
    "\n",
    "3. Add and Commit Your Notebook\n",
    "\n",
    "    Add your notebook to the staging area with git add your-notebook.ipynb or git add . to add all files in the directory.\n",
    "\n",
    "    Commit the changes with git commit -m \"Initial commit\".\n",
    "\n",
    "4. Push to GitHub\n",
    "\n",
    "    Push your changes to GitHub with git push -u origin master or git push -u origin main (depending on the name of your default branch).\n",
    "\n",
    "5. Syncing Future Changes\n",
    "\n",
    "    Whenever you make changes to your notebook:\n",
    "\n",
    "    Add the changes: git add your-notebook.ipynb or git add . for all changes.\n",
    "\n",
    "    Commit the changes: git commit -m \"Description of changes\".\n",
    "\n",
    "    Push the changes: git push."
   ]
  },
  {
   "attachments": {},
   "cell_type": "markdown",
   "metadata": {},
   "source": [
    "### Useful Commands for daily updating."
   ]
  },
  {
   "attachments": {},
   "cell_type": "markdown",
   "metadata": {},
   "source": [
    "conda activate carla\n",
    "\n",
    "python train.py --config mile/configs/mile.yml\n",
    "\n",
    "code\n",
    "\n",
    "git status\n",
    "git add .\n",
    "git commit -m \"Updated code with new feature\"\n",
    "git push"
   ]
  },
  {
   "cell_type": "markdown",
   "metadata": {},
   "source": []
  }
 ],
 "metadata": {
  "language_info": {
   "name": "python"
  },
  "orig_nbformat": 4
 },
 "nbformat": 4,
 "nbformat_minor": 2
}
